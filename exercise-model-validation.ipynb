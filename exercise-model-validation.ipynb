{
 "cells": [
  {
   "cell_type": "markdown",
   "id": "af7226a4",
   "metadata": {
    "papermill": {
     "duration": 0.00555,
     "end_time": "2022-09-17T12:50:53.959686",
     "exception": false,
     "start_time": "2022-09-17T12:50:53.954136",
     "status": "completed"
    },
    "tags": []
   },
   "source": [
    "**This notebook is an exercise in the [Introduction to Machine Learning](https://www.kaggle.com/learn/intro-to-machine-learning) course.  You can reference the tutorial at [this link](https://www.kaggle.com/dansbecker/model-validation).**\n",
    "\n",
    "---\n"
   ]
  },
  {
   "cell_type": "markdown",
   "id": "3f3eee2f",
   "metadata": {
    "papermill": {
     "duration": 0.004009,
     "end_time": "2022-09-17T12:50:53.968285",
     "exception": false,
     "start_time": "2022-09-17T12:50:53.964276",
     "status": "completed"
    },
    "tags": []
   },
   "source": [
    "## Recap\n",
    "You've built a model. In this exercise you will test how good your model is.\n",
    "\n",
    "Run the cell below to set up your coding environment where the previous exercise left off."
   ]
  },
  {
   "cell_type": "code",
   "execution_count": 1,
   "id": "ebd480f2",
   "metadata": {
    "execution": {
     "iopub.execute_input": "2022-09-17T12:50:53.980048Z",
     "iopub.status.busy": "2022-09-17T12:50:53.979449Z",
     "iopub.status.idle": "2022-09-17T12:50:55.403399Z",
     "shell.execute_reply": "2022-09-17T12:50:55.402098Z"
    },
    "papermill": {
     "duration": 1.433555,
     "end_time": "2022-09-17T12:50:55.406189",
     "exception": false,
     "start_time": "2022-09-17T12:50:53.972634",
     "status": "completed"
    },
    "tags": []
   },
   "outputs": [
    {
     "name": "stdout",
     "output_type": "stream",
     "text": [
      "First in-sample predictions: [208500. 181500. 223500. 140000. 250000.]\n",
      "Actual target values for those homes: [208500, 181500, 223500, 140000, 250000]\n",
      "Setup Complete\n"
     ]
    }
   ],
   "source": [
    "# Code you have previously used to load data\n",
    "import pandas as pd\n",
    "from sklearn.tree import DecisionTreeRegressor\n",
    "\n",
    "# Path of the file to read\n",
    "iowa_file_path = '../input/home-data-for-ml-course/train.csv'\n",
    "\n",
    "home_data = pd.read_csv(iowa_file_path)\n",
    "y = home_data.SalePrice\n",
    "feature_columns = ['LotArea', 'YearBuilt', '1stFlrSF', '2ndFlrSF', 'FullBath', 'BedroomAbvGr', 'TotRmsAbvGrd']\n",
    "X = home_data[feature_columns]\n",
    "\n",
    "# Specify Model\n",
    "iowa_model = DecisionTreeRegressor()\n",
    "# Fit Model\n",
    "iowa_model.fit(X, y)\n",
    "\n",
    "print(\"First in-sample predictions:\", iowa_model.predict(X.head()))\n",
    "print(\"Actual target values for those homes:\", y.head().tolist())\n",
    "\n",
    "# Set up code checking\n",
    "from learntools.core import binder\n",
    "binder.bind(globals())\n",
    "from learntools.machine_learning.ex4 import *\n",
    "print(\"Setup Complete\")"
   ]
  },
  {
   "cell_type": "markdown",
   "id": "088ac052",
   "metadata": {
    "papermill": {
     "duration": 0.004086,
     "end_time": "2022-09-17T12:50:55.414816",
     "exception": false,
     "start_time": "2022-09-17T12:50:55.410730",
     "status": "completed"
    },
    "tags": []
   },
   "source": [
    "# Exercises\n",
    "\n",
    "## Step 1: Split Your Data\n",
    "Use the `train_test_split` function to split up your data.\n",
    "\n",
    "Give it the argument `random_state=1` so the `check` functions know what to expect when verifying your code.\n",
    "\n",
    "Recall, your features are loaded in the DataFrame **X** and your target is loaded in **y**.\n"
   ]
  },
  {
   "cell_type": "code",
   "execution_count": 2,
   "id": "eee474ba",
   "metadata": {
    "execution": {
     "iopub.execute_input": "2022-09-17T12:50:55.426794Z",
     "iopub.status.busy": "2022-09-17T12:50:55.425587Z",
     "iopub.status.idle": "2022-09-17T12:50:55.440906Z",
     "shell.execute_reply": "2022-09-17T12:50:55.439782Z"
    },
    "papermill": {
     "duration": 0.023654,
     "end_time": "2022-09-17T12:50:55.443523",
     "exception": false,
     "start_time": "2022-09-17T12:50:55.419869",
     "status": "completed"
    },
    "tags": []
   },
   "outputs": [
    {
     "data": {
      "application/javascript": [
       "parent.postMessage({\"jupyterEvent\": \"custom.exercise_interaction\", \"data\": {\"outcomeType\": 1, \"valueTowardsCompletion\": 0.25, \"interactionType\": 1, \"questionType\": 2, \"questionId\": \"1_SplitData\", \"learnToolsVersion\": \"0.3.4\", \"failureMessage\": \"\", \"exceptionClass\": \"\", \"trace\": \"\"}}, \"*\")"
      ],
      "text/plain": [
       "<IPython.core.display.Javascript object>"
      ]
     },
     "metadata": {},
     "output_type": "display_data"
    },
    {
     "data": {
      "text/markdown": [
       "<span style=\"color:#33cc33\">Correct</span>"
      ],
      "text/plain": [
       "Correct"
      ]
     },
     "metadata": {},
     "output_type": "display_data"
    }
   ],
   "source": [
    "# Import the train_test_split function and uncomment\n",
    "from sklearn.model_selection import train_test_split\n",
    "# from _ import _\n",
    "\n",
    "# fill in and uncomment\n",
    "train_X, val_X, train_y, val_y = train_test_split(X,y,random_state=1)\n",
    "\n",
    "# Check your answer\n",
    "step_1.check()"
   ]
  },
  {
   "cell_type": "code",
   "execution_count": 3,
   "id": "91c8b1af",
   "metadata": {
    "execution": {
     "iopub.execute_input": "2022-09-17T12:50:55.454753Z",
     "iopub.status.busy": "2022-09-17T12:50:55.454380Z",
     "iopub.status.idle": "2022-09-17T12:50:55.458914Z",
     "shell.execute_reply": "2022-09-17T12:50:55.457739Z"
    },
    "papermill": {
     "duration": 0.012998,
     "end_time": "2022-09-17T12:50:55.461287",
     "exception": false,
     "start_time": "2022-09-17T12:50:55.448289",
     "status": "completed"
    },
    "tags": []
   },
   "outputs": [],
   "source": [
    "# The lines below will show you a hint or the solution.\n",
    "# step_1.hint() \n",
    "# step_1.solution()\n"
   ]
  },
  {
   "cell_type": "markdown",
   "id": "c9004244",
   "metadata": {
    "papermill": {
     "duration": 0.004467,
     "end_time": "2022-09-17T12:50:55.470788",
     "exception": false,
     "start_time": "2022-09-17T12:50:55.466321",
     "status": "completed"
    },
    "tags": []
   },
   "source": [
    "## Step 2: Specify and Fit the Model\n",
    "\n",
    "Create a `DecisionTreeRegressor` model and fit it to the relevant data.\n",
    "Set `random_state` to 1 again when creating the model."
   ]
  },
  {
   "cell_type": "code",
   "execution_count": 4,
   "id": "71c3623c",
   "metadata": {
    "execution": {
     "iopub.execute_input": "2022-09-17T12:50:55.481964Z",
     "iopub.status.busy": "2022-09-17T12:50:55.481527Z",
     "iopub.status.idle": "2022-09-17T12:50:55.509867Z",
     "shell.execute_reply": "2022-09-17T12:50:55.508634Z"
    },
    "papermill": {
     "duration": 0.036789,
     "end_time": "2022-09-17T12:50:55.512308",
     "exception": false,
     "start_time": "2022-09-17T12:50:55.475519",
     "status": "completed"
    },
    "tags": []
   },
   "outputs": [
    {
     "name": "stdout",
     "output_type": "stream",
     "text": [
      "[186500. 184000. 130000.  92000. 164500. 220000. 335000. 144152. 215000.\n",
      " 262000.]\n",
      "[186500. 184000. 130000.  92000. 164500. 220000. 335000. 144152. 215000.\n",
      " 262000.]\n"
     ]
    },
    {
     "data": {
      "application/javascript": [
       "parent.postMessage({\"jupyterEvent\": \"custom.exercise_interaction\", \"data\": {\"outcomeType\": 1, \"valueTowardsCompletion\": 0.25, \"interactionType\": 1, \"questionType\": 2, \"questionId\": \"2_FitModelWithTrain\", \"learnToolsVersion\": \"0.3.4\", \"failureMessage\": \"\", \"exceptionClass\": \"\", \"trace\": \"\"}}, \"*\")"
      ],
      "text/plain": [
       "<IPython.core.display.Javascript object>"
      ]
     },
     "metadata": {},
     "output_type": "display_data"
    },
    {
     "data": {
      "text/markdown": [
       "<span style=\"color:#33cc33\">Correct</span>"
      ],
      "text/plain": [
       "Correct"
      ]
     },
     "metadata": {},
     "output_type": "display_data"
    }
   ],
   "source": [
    "# You imported DecisionTreeRegressor in your last exercise\n",
    "# and that code has been copied to the setup code above. So, no need to\n",
    "# import it again\n",
    "\n",
    "# Specify the model\n",
    "iowa_model = DecisionTreeRegressor(random_state=1)\n",
    "\n",
    "# Fit iowa_model with the training data.\n",
    "iowa_model.fit(train_X,train_y)\n",
    "\n",
    "# Check your answer\n",
    "step_2.check()"
   ]
  },
  {
   "cell_type": "code",
   "execution_count": 5,
   "id": "9cb9b898",
   "metadata": {
    "execution": {
     "iopub.execute_input": "2022-09-17T12:50:55.524169Z",
     "iopub.status.busy": "2022-09-17T12:50:55.523765Z",
     "iopub.status.idle": "2022-09-17T12:50:55.528666Z",
     "shell.execute_reply": "2022-09-17T12:50:55.527286Z"
    },
    "papermill": {
     "duration": 0.014048,
     "end_time": "2022-09-17T12:50:55.531520",
     "exception": false,
     "start_time": "2022-09-17T12:50:55.517472",
     "status": "completed"
    },
    "tags": []
   },
   "outputs": [],
   "source": [
    "# step_2.hint()\n",
    "# step_2.solution()"
   ]
  },
  {
   "cell_type": "markdown",
   "id": "ac18caa4",
   "metadata": {
    "papermill": {
     "duration": 0.005005,
     "end_time": "2022-09-17T12:50:55.541909",
     "exception": false,
     "start_time": "2022-09-17T12:50:55.536904",
     "status": "completed"
    },
    "tags": []
   },
   "source": [
    "## Step 3: Make Predictions with Validation data\n"
   ]
  },
  {
   "cell_type": "code",
   "execution_count": 6,
   "id": "6a10716f",
   "metadata": {
    "execution": {
     "iopub.execute_input": "2022-09-17T12:50:55.554153Z",
     "iopub.status.busy": "2022-09-17T12:50:55.553758Z",
     "iopub.status.idle": "2022-09-17T12:50:55.566727Z",
     "shell.execute_reply": "2022-09-17T12:50:55.565639Z"
    },
    "papermill": {
     "duration": 0.021655,
     "end_time": "2022-09-17T12:50:55.568825",
     "exception": false,
     "start_time": "2022-09-17T12:50:55.547170",
     "status": "completed"
    },
    "tags": []
   },
   "outputs": [
    {
     "data": {
      "application/javascript": [
       "parent.postMessage({\"jupyterEvent\": \"custom.exercise_interaction\", \"data\": {\"outcomeType\": 1, \"valueTowardsCompletion\": 0.25, \"interactionType\": 1, \"questionType\": 2, \"questionId\": \"3_ValPreds\", \"learnToolsVersion\": \"0.3.4\", \"failureMessage\": \"\", \"exceptionClass\": \"\", \"trace\": \"\"}}, \"*\")"
      ],
      "text/plain": [
       "<IPython.core.display.Javascript object>"
      ]
     },
     "metadata": {},
     "output_type": "display_data"
    },
    {
     "data": {
      "text/markdown": [
       "<span style=\"color:#33cc33\">Correct</span>"
      ],
      "text/plain": [
       "Correct"
      ]
     },
     "metadata": {},
     "output_type": "display_data"
    }
   ],
   "source": [
    "# Predict with all validation observations\n",
    "val_predictions = iowa_model.predict(val_X)\n",
    "\n",
    "# Check your answer\n",
    "step_3.check()"
   ]
  },
  {
   "cell_type": "code",
   "execution_count": 7,
   "id": "639944d1",
   "metadata": {
    "execution": {
     "iopub.execute_input": "2022-09-17T12:50:55.581111Z",
     "iopub.status.busy": "2022-09-17T12:50:55.580751Z",
     "iopub.status.idle": "2022-09-17T12:50:55.584323Z",
     "shell.execute_reply": "2022-09-17T12:50:55.583543Z"
    },
    "papermill": {
     "duration": 0.012077,
     "end_time": "2022-09-17T12:50:55.586274",
     "exception": false,
     "start_time": "2022-09-17T12:50:55.574197",
     "status": "completed"
    },
    "tags": []
   },
   "outputs": [],
   "source": [
    "# step_3.hint()\n",
    "# step_3.solution()"
   ]
  },
  {
   "cell_type": "markdown",
   "id": "9dd72150",
   "metadata": {
    "papermill": {
     "duration": 0.005175,
     "end_time": "2022-09-17T12:50:55.597897",
     "exception": false,
     "start_time": "2022-09-17T12:50:55.592722",
     "status": "completed"
    },
    "tags": []
   },
   "source": [
    "Inspect your predictions and actual values from validation data."
   ]
  },
  {
   "cell_type": "code",
   "execution_count": 8,
   "id": "b6e179fc",
   "metadata": {
    "execution": {
     "iopub.execute_input": "2022-09-17T12:50:55.612018Z",
     "iopub.status.busy": "2022-09-17T12:50:55.611366Z",
     "iopub.status.idle": "2022-09-17T12:50:55.618589Z",
     "shell.execute_reply": "2022-09-17T12:50:55.617277Z"
    },
    "papermill": {
     "duration": 0.018774,
     "end_time": "2022-09-17T12:50:55.621976",
     "exception": false,
     "start_time": "2022-09-17T12:50:55.603202",
     "status": "completed"
    },
    "tags": []
   },
   "outputs": [
    {
     "name": "stdout",
     "output_type": "stream",
     "text": [
      "[186500. 184000. 130000.  92000. 164500.]\n",
      "258     231500\n",
      "267     179500\n",
      "288     122000\n",
      "649      84500\n",
      "1233    142000\n",
      "Name: SalePrice, dtype: int64\n"
     ]
    }
   ],
   "source": [
    "# print the top few validation predictions\n",
    "print(val_predictions[:5])\n",
    "# print the top few actual prices from validation data\n",
    "print(val_y[ :5])"
   ]
  },
  {
   "cell_type": "markdown",
   "id": "8e931cbf",
   "metadata": {
    "papermill": {
     "duration": 0.00516,
     "end_time": "2022-09-17T12:50:55.632910",
     "exception": false,
     "start_time": "2022-09-17T12:50:55.627750",
     "status": "completed"
    },
    "tags": []
   },
   "source": [
    "What do you notice that is different from what you saw with in-sample predictions (which are printed after the top code cell in this page).\n",
    "\n",
    "Do you remember why validation predictions differ from in-sample (or training) predictions? This is an important idea from the last lesson.\n",
    "\n",
    "## Step 4: Calculate the Mean Absolute Error in Validation Data\n"
   ]
  },
  {
   "cell_type": "code",
   "execution_count": 9,
   "id": "8343aa09",
   "metadata": {
    "execution": {
     "iopub.execute_input": "2022-09-17T12:50:55.645244Z",
     "iopub.status.busy": "2022-09-17T12:50:55.644827Z",
     "iopub.status.idle": "2022-09-17T12:50:55.657122Z",
     "shell.execute_reply": "2022-09-17T12:50:55.655377Z"
    },
    "papermill": {
     "duration": 0.0213,
     "end_time": "2022-09-17T12:50:55.659498",
     "exception": false,
     "start_time": "2022-09-17T12:50:55.638198",
     "status": "completed"
    },
    "tags": []
   },
   "outputs": [
    {
     "name": "stdout",
     "output_type": "stream",
     "text": [
      "29652.931506849316\n"
     ]
    },
    {
     "data": {
      "application/javascript": [
       "parent.postMessage({\"jupyterEvent\": \"custom.exercise_interaction\", \"data\": {\"outcomeType\": 1, \"valueTowardsCompletion\": 0.25, \"interactionType\": 1, \"questionType\": 1, \"questionId\": \"4_MAE\", \"learnToolsVersion\": \"0.3.4\", \"failureMessage\": \"\", \"exceptionClass\": \"\", \"trace\": \"\"}}, \"*\")"
      ],
      "text/plain": [
       "<IPython.core.display.Javascript object>"
      ]
     },
     "metadata": {},
     "output_type": "display_data"
    },
    {
     "data": {
      "text/markdown": [
       "<span style=\"color:#33cc33\">Correct</span>"
      ],
      "text/plain": [
       "Correct"
      ]
     },
     "metadata": {},
     "output_type": "display_data"
    }
   ],
   "source": [
    "from sklearn.metrics import mean_absolute_error\n",
    "val_mae = mean_absolute_error(val_y,val_predictions)\n",
    "\n",
    "# uncomment following line to see the validation_mae\n",
    "print(val_mae)\n",
    "\n",
    "# Check your answer\n",
    "step_4.check()"
   ]
  },
  {
   "cell_type": "code",
   "execution_count": 10,
   "id": "ec765e5a",
   "metadata": {
    "execution": {
     "iopub.execute_input": "2022-09-17T12:50:55.673897Z",
     "iopub.status.busy": "2022-09-17T12:50:55.673124Z",
     "iopub.status.idle": "2022-09-17T12:50:55.677955Z",
     "shell.execute_reply": "2022-09-17T12:50:55.676836Z"
    },
    "papermill": {
     "duration": 0.01472,
     "end_time": "2022-09-17T12:50:55.680358",
     "exception": false,
     "start_time": "2022-09-17T12:50:55.665638",
     "status": "completed"
    },
    "tags": []
   },
   "outputs": [],
   "source": [
    "# step_4.hint()\n",
    "# step_4.solution()"
   ]
  },
  {
   "cell_type": "markdown",
   "id": "594728d0",
   "metadata": {
    "papermill": {
     "duration": 0.005563,
     "end_time": "2022-09-17T12:50:55.691882",
     "exception": false,
     "start_time": "2022-09-17T12:50:55.686319",
     "status": "completed"
    },
    "tags": []
   },
   "source": [
    "Is that MAE good?  There isn't a general rule for what values are good that applies across applications. But you'll see how to use (and improve) this number in the next step.\n",
    "\n",
    "# Keep Going\n",
    "\n",
    "You are ready for **[Underfitting and Overfitting](https://www.kaggle.com/dansbecker/underfitting-and-overfitting).**\n"
   ]
  },
  {
   "cell_type": "markdown",
   "id": "e62eb0d0",
   "metadata": {
    "papermill": {
     "duration": 0.005476,
     "end_time": "2022-09-17T12:50:55.703196",
     "exception": false,
     "start_time": "2022-09-17T12:50:55.697720",
     "status": "completed"
    },
    "tags": []
   },
   "source": [
    "---\n",
    "\n",
    "\n",
    "\n",
    "\n",
    "*Have questions or comments? Visit the [course discussion forum](https://www.kaggle.com/learn/intro-to-machine-learning/discussion) to chat with other learners.*"
   ]
  }
 ],
 "metadata": {
  "kernelspec": {
   "display_name": "Python 3",
   "language": "python",
   "name": "python3"
  },
  "language_info": {
   "codemirror_mode": {
    "name": "ipython",
    "version": 3
   },
   "file_extension": ".py",
   "mimetype": "text/x-python",
   "name": "python",
   "nbconvert_exporter": "python",
   "pygments_lexer": "ipython3",
   "version": "3.7.12"
  },
  "papermill": {
   "default_parameters": {},
   "duration": 11.988773,
   "end_time": "2022-09-17T12:50:56.431132",
   "environment_variables": {},
   "exception": null,
   "input_path": "__notebook__.ipynb",
   "output_path": "__notebook__.ipynb",
   "parameters": {},
   "start_time": "2022-09-17T12:50:44.442359",
   "version": "2.3.4"
  }
 },
 "nbformat": 4,
 "nbformat_minor": 5
}
